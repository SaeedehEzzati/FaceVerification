{
 "cells": [
  {
   "cell_type": "code",
   "execution_count": 14,
   "metadata": {},
   "outputs": [],
   "source": [
    "# importing libraries\n",
    "from facenet_pytorch import MTCNN, InceptionResnetV1\n",
    "import torch\n",
    "from torchvision import datasets\n",
    "from torch.utils.data import DataLoader\n",
    "from PIL import Image\n",
    "import cv2\n",
    "import matplotlib.pyplot as plt\n",
    "import dlib\n",
    "import numpy as np\n",
    "from imutils import face_utils\n",
    "from torchvision import transforms\n",
    "import glob\n",
    "%matplotlib inline\n",
    "import pandas as pd\n",
    "\n",
    "font = cv2.FONT_HERSHEY_SIMPLEX"
   ]
  },
  {
   "cell_type": "code",
   "execution_count": 15,
   "metadata": {},
   "outputs": [
    {
     "data": {
      "text/plain": [
       "device(type='cpu')"
      ]
     },
     "execution_count": 15,
     "metadata": {},
     "output_type": "execute_result"
    }
   ],
   "source": [
    "#torch.cuda.is_available()\n",
    "device = torch.device('cpu')#'cuda' if torch.cuda.is_available else 'cpu'\n",
    "device"
   ]
  },
  {
   "cell_type": "code",
   "execution_count": 16,
   "metadata": {},
   "outputs": [
    {
     "name": "stdout",
     "output_type": "stream",
     "text": [
      "40\n"
     ]
    }
   ],
   "source": [
    "mtcnn = MTCNN(image_size=240, margin=0, min_face_size=20, device = device)\n",
    "#image_size=240, margin=0, min_face_size=20, device= device)\n",
    "resnet = InceptionResnetV1(pretrained='vggface2', device= device).eval()\n",
    "\n",
    "dataset=datasets.ImageFolder('lfw_split/train/')\n",
    "print(len(dataset))\n",
    "idx_to_class = {i:c for c,i in dataset.class_to_idx.items()} \n",
    "def collate_fn(x):\n",
    "    return x[0]\n",
    "\n",
    "loader = DataLoader(dataset, collate_fn=collate_fn)\n",
    "\n",
    "face_list = [] \n",
    "name_list = [] \n",
    "embedding_list = [] \n",
    "\n"
   ]
  },
  {
   "cell_type": "code",
   "execution_count": 17,
   "metadata": {},
   "outputs": [
    {
     "name": "stderr",
     "output_type": "stream",
     "text": [
      "Using cache found in C:\\Users\\s.ezati/.cache\\torch\\hub\\ultralytics_yolov5_master\n",
      "YOLOv5  2022-9-18 Python-3.7.6 torch-1.11.0+cpu CPU\n",
      "\n",
      "Fusing layers... \n",
      "newYOLOv5s summary: 224 layers, 7053910 parameters, 0 gradients\n",
      "Adding AutoShape... \n"
     ]
    },
    {
     "name": "stdout",
     "output_type": "stream",
     "text": [
      "        xmin       ymin        xmax        ymax  confidence  class  name\n",
      "0  66.674759  49.060329  167.917633  196.264343       0.753      0  Face\n",
      "<class 'numpy.ndarray'>\n",
      "(147, 101, 3)\n"
     ]
    },
    {
     "name": "stderr",
     "output_type": "stream",
     "text": [
      "C:\\Users\\s.ezati\\.conda\\envs\\myenv\\lib\\site-packages\\torch\\nn\\functional.py:780: UserWarning: Note that order of the arguments: ceil_mode and return_indices will changeto match the args list in nn.MaxPool2d in a future release.\n",
      "  warnings.warn(\"Note that order of the arguments: ceil_mode and return_indices will change\"\n"
     ]
    },
    {
     "name": "stdout",
     "output_type": "stream",
     "text": [
      "        xmin       ymin        xmax       ymax  confidence  class  name\n",
      "0  72.585007  51.608276  168.490677  193.27359    0.835175      0  Face\n",
      "<class 'numpy.ndarray'>\n",
      "(141, 95, 3)\n"
     ]
    },
    {
     "name": "stderr",
     "output_type": "stream",
     "text": [
      "C:\\Users\\s.ezati\\.conda\\envs\\myenv\\lib\\site-packages\\torch\\nn\\functional.py:780: UserWarning: Note that order of the arguments: ceil_mode and return_indices will changeto match the args list in nn.MaxPool2d in a future release.\n",
      "  warnings.warn(\"Note that order of the arguments: ceil_mode and return_indices will change\"\n"
     ]
    },
    {
     "name": "stdout",
     "output_type": "stream",
     "text": [
      "        xmin       ymin        xmax        ymax  confidence  class  name\n",
      "0  89.268051  57.024879  177.853119  189.579758    0.844589      0  Face\n",
      "<class 'numpy.ndarray'>\n",
      "(133, 89, 3)\n"
     ]
    },
    {
     "name": "stderr",
     "output_type": "stream",
     "text": [
      "C:\\Users\\s.ezati\\.conda\\envs\\myenv\\lib\\site-packages\\torch\\nn\\functional.py:780: UserWarning: Note that order of the arguments: ceil_mode and return_indices will changeto match the args list in nn.MaxPool2d in a future release.\n",
      "  warnings.warn(\"Note that order of the arguments: ceil_mode and return_indices will change\"\n"
     ]
    },
    {
     "name": "stdout",
     "output_type": "stream",
     "text": [
      "        xmin       ymin        xmax        ymax  confidence  class  name\n",
      "0  75.123558  53.579468  180.738556  198.619659    0.748834      0  Face\n",
      "<class 'numpy.ndarray'>\n",
      "(145, 106, 3)\n"
     ]
    },
    {
     "name": "stderr",
     "output_type": "stream",
     "text": [
      "C:\\Users\\s.ezati\\.conda\\envs\\myenv\\lib\\site-packages\\torch\\nn\\functional.py:780: UserWarning: Note that order of the arguments: ceil_mode and return_indices will changeto match the args list in nn.MaxPool2d in a future release.\n",
      "  warnings.warn(\"Note that order of the arguments: ceil_mode and return_indices will change\"\n"
     ]
    },
    {
     "name": "stdout",
     "output_type": "stream",
     "text": [
      "         xmin        ymin        xmax        ymax  confidence  class  name\n",
      "0   73.751907   56.588432  171.190048  188.401901    0.879722      0  Face\n",
      "1  215.871964  108.833603  249.886703  170.044037    0.680250      0  Face\n",
      "<class 'numpy.ndarray'>\n",
      "(131, 97, 3)\n"
     ]
    },
    {
     "name": "stderr",
     "output_type": "stream",
     "text": [
      "C:\\Users\\s.ezati\\.conda\\envs\\myenv\\lib\\site-packages\\torch\\nn\\functional.py:780: UserWarning: Note that order of the arguments: ceil_mode and return_indices will changeto match the args list in nn.MaxPool2d in a future release.\n",
      "  warnings.warn(\"Note that order of the arguments: ceil_mode and return_indices will change\"\n"
     ]
    },
    {
     "name": "stdout",
     "output_type": "stream",
     "text": [
      "        xmin       ymin        xmax        ymax  confidence  class  name\n",
      "0  77.183418  48.725372  179.234604  186.110718    0.739423      0  Face\n",
      "<class 'numpy.ndarray'>\n",
      "(137, 102, 3)\n"
     ]
    },
    {
     "name": "stderr",
     "output_type": "stream",
     "text": [
      "C:\\Users\\s.ezati\\.conda\\envs\\myenv\\lib\\site-packages\\torch\\nn\\functional.py:780: UserWarning: Note that order of the arguments: ceil_mode and return_indices will changeto match the args list in nn.MaxPool2d in a future release.\n",
      "  warnings.warn(\"Note that order of the arguments: ceil_mode and return_indices will change\"\n"
     ]
    },
    {
     "name": "stdout",
     "output_type": "stream",
     "text": [
      "        xmin       ymin        xmax        ymax  confidence  class  name\n",
      "0  44.851593  53.901024  143.182953  187.243225    0.565899      0  Face\n",
      "<class 'numpy.ndarray'>\n",
      "(133, 98, 3)\n"
     ]
    },
    {
     "name": "stderr",
     "output_type": "stream",
     "text": [
      "C:\\Users\\s.ezati\\.conda\\envs\\myenv\\lib\\site-packages\\torch\\nn\\functional.py:780: UserWarning: Note that order of the arguments: ceil_mode and return_indices will changeto match the args list in nn.MaxPool2d in a future release.\n",
      "  warnings.warn(\"Note that order of the arguments: ceil_mode and return_indices will change\"\n"
     ]
    },
    {
     "name": "stdout",
     "output_type": "stream",
     "text": [
      "        xmin       ymin        xmax       ymax  confidence  class  name\n",
      "0  49.629982  37.379654  169.905457  201.25618    0.452736      0  Face\n",
      "<class 'numpy.ndarray'>\n",
      "(164, 120, 3)\n"
     ]
    },
    {
     "name": "stderr",
     "output_type": "stream",
     "text": [
      "C:\\Users\\s.ezati\\.conda\\envs\\myenv\\lib\\site-packages\\torch\\nn\\functional.py:780: UserWarning: Note that order of the arguments: ceil_mode and return_indices will changeto match the args list in nn.MaxPool2d in a future release.\n",
      "  warnings.warn(\"Note that order of the arguments: ceil_mode and return_indices will change\"\n"
     ]
    },
    {
     "name": "stdout",
     "output_type": "stream",
     "text": [
      "        xmin       ymin        xmax        ymax  confidence  class  name\n",
      "0  85.295708  72.411469  175.949097  192.053711    0.460799      0  Face\n",
      "<class 'numpy.ndarray'>\n",
      "(120, 91, 3)\n"
     ]
    },
    {
     "name": "stderr",
     "output_type": "stream",
     "text": [
      "C:\\Users\\s.ezati\\.conda\\envs\\myenv\\lib\\site-packages\\torch\\nn\\functional.py:780: UserWarning: Note that order of the arguments: ceil_mode and return_indices will changeto match the args list in nn.MaxPool2d in a future release.\n",
      "  warnings.warn(\"Note that order of the arguments: ceil_mode and return_indices will change\"\n"
     ]
    },
    {
     "name": "stdout",
     "output_type": "stream",
     "text": [
      "        xmin       ymin        xmax       ymax  confidence  class  name\n",
      "0  82.911423  54.945763  181.772614  185.74939    0.874338      0  Face\n",
      "<class 'numpy.ndarray'>\n",
      "(131, 99, 3)\n"
     ]
    },
    {
     "name": "stderr",
     "output_type": "stream",
     "text": [
      "C:\\Users\\s.ezati\\.conda\\envs\\myenv\\lib\\site-packages\\torch\\nn\\functional.py:780: UserWarning: Note that order of the arguments: ceil_mode and return_indices will changeto match the args list in nn.MaxPool2d in a future release.\n",
      "  warnings.warn(\"Note that order of the arguments: ceil_mode and return_indices will change\"\n"
     ]
    },
    {
     "name": "stdout",
     "output_type": "stream",
     "text": [
      "        xmin       ymin        xmax        ymax  confidence  class  name\n",
      "0  97.857498  62.159946  189.982254  190.723831    0.853181      0  Face\n",
      "<class 'numpy.ndarray'>\n",
      "(129, 92, 3)\n"
     ]
    },
    {
     "name": "stderr",
     "output_type": "stream",
     "text": [
      "C:\\Users\\s.ezati\\.conda\\envs\\myenv\\lib\\site-packages\\torch\\nn\\functional.py:780: UserWarning: Note that order of the arguments: ceil_mode and return_indices will changeto match the args list in nn.MaxPool2d in a future release.\n",
      "  warnings.warn(\"Note that order of the arguments: ceil_mode and return_indices will change\"\n"
     ]
    },
    {
     "name": "stdout",
     "output_type": "stream",
     "text": [
      "        xmin       ymin        xmax        ymax  confidence  class  name\n",
      "0  75.018562  69.016449  168.160126  194.620087    0.871691      0  Face\n",
      "<class 'numpy.ndarray'>\n",
      "(126, 93, 3)\n"
     ]
    },
    {
     "name": "stderr",
     "output_type": "stream",
     "text": [
      "C:\\Users\\s.ezati\\.conda\\envs\\myenv\\lib\\site-packages\\torch\\nn\\functional.py:780: UserWarning: Note that order of the arguments: ceil_mode and return_indices will changeto match the args list in nn.MaxPool2d in a future release.\n",
      "  warnings.warn(\"Note that order of the arguments: ceil_mode and return_indices will change\"\n"
     ]
    },
    {
     "name": "stdout",
     "output_type": "stream",
     "text": [
      "        xmin       ymin        xmax        ymax  confidence  class  name\n",
      "0  73.921623  64.684532  163.347672  196.190292    0.847255      0  Face\n",
      "<class 'numpy.ndarray'>\n",
      "(131, 89, 3)\n"
     ]
    },
    {
     "name": "stderr",
     "output_type": "stream",
     "text": [
      "C:\\Users\\s.ezati\\.conda\\envs\\myenv\\lib\\site-packages\\torch\\nn\\functional.py:780: UserWarning: Note that order of the arguments: ceil_mode and return_indices will changeto match the args list in nn.MaxPool2d in a future release.\n",
      "  warnings.warn(\"Note that order of the arguments: ceil_mode and return_indices will change\"\n"
     ]
    },
    {
     "name": "stdout",
     "output_type": "stream",
     "text": [
      "        xmin      ymin        xmax       ymax  confidence  class  name\n",
      "0  80.838005  61.72876  181.089233  193.66481     0.81698      0  Face\n",
      "<class 'numpy.ndarray'>\n",
      "(132, 100, 3)\n"
     ]
    },
    {
     "name": "stderr",
     "output_type": "stream",
     "text": [
      "C:\\Users\\s.ezati\\.conda\\envs\\myenv\\lib\\site-packages\\torch\\nn\\functional.py:780: UserWarning: Note that order of the arguments: ceil_mode and return_indices will changeto match the args list in nn.MaxPool2d in a future release.\n",
      "  warnings.warn(\"Note that order of the arguments: ceil_mode and return_indices will change\"\n"
     ]
    },
    {
     "name": "stdout",
     "output_type": "stream",
     "text": [
      "        xmin       ymin        xmax        ymax  confidence  class  name\n",
      "0  83.509521  55.025742  184.488678  189.362915    0.846106      0  Face\n",
      "<class 'numpy.ndarray'>\n",
      "(134, 100, 3)\n"
     ]
    },
    {
     "name": "stderr",
     "output_type": "stream",
     "text": [
      "C:\\Users\\s.ezati\\.conda\\envs\\myenv\\lib\\site-packages\\torch\\nn\\functional.py:780: UserWarning: Note that order of the arguments: ceil_mode and return_indices will changeto match the args list in nn.MaxPool2d in a future release.\n",
      "  warnings.warn(\"Note that order of the arguments: ceil_mode and return_indices will change\"\n"
     ]
    },
    {
     "name": "stdout",
     "output_type": "stream",
     "text": [
      "        xmin       ymin        xmax        ymax  confidence  class  name\n",
      "0  81.606438  57.971943  188.539276  199.184097    0.842624      0  Face\n",
      "<class 'numpy.ndarray'>\n",
      "(141, 107, 3)\n"
     ]
    },
    {
     "name": "stderr",
     "output_type": "stream",
     "text": [
      "C:\\Users\\s.ezati\\.conda\\envs\\myenv\\lib\\site-packages\\torch\\nn\\functional.py:780: UserWarning: Note that order of the arguments: ceil_mode and return_indices will changeto match the args list in nn.MaxPool2d in a future release.\n",
      "  warnings.warn(\"Note that order of the arguments: ceil_mode and return_indices will change\"\n"
     ]
    },
    {
     "name": "stdout",
     "output_type": "stream",
     "text": [
      "        xmin       ymin        xmax        ymax  confidence  class  name\n",
      "0  80.304138  58.000118  186.040451  196.226624      0.8571      0  Face\n",
      "<class 'numpy.ndarray'>\n",
      "(138, 106, 3)\n"
     ]
    },
    {
     "name": "stderr",
     "output_type": "stream",
     "text": [
      "C:\\Users\\s.ezati\\.conda\\envs\\myenv\\lib\\site-packages\\torch\\nn\\functional.py:780: UserWarning: Note that order of the arguments: ceil_mode and return_indices will changeto match the args list in nn.MaxPool2d in a future release.\n",
      "  warnings.warn(\"Note that order of the arguments: ceil_mode and return_indices will change\"\n"
     ]
    },
    {
     "name": "stdout",
     "output_type": "stream",
     "text": [
      "        xmin       ymin        xmax        ymax  confidence  class  name\n",
      "0  79.078209  62.255516  181.088715  196.478317    0.873579      0  Face\n",
      "<class 'numpy.ndarray'>\n",
      "(134, 102, 3)\n"
     ]
    },
    {
     "name": "stderr",
     "output_type": "stream",
     "text": [
      "C:\\Users\\s.ezati\\.conda\\envs\\myenv\\lib\\site-packages\\torch\\nn\\functional.py:780: UserWarning: Note that order of the arguments: ceil_mode and return_indices will changeto match the args list in nn.MaxPool2d in a future release.\n",
      "  warnings.warn(\"Note that order of the arguments: ceil_mode and return_indices will change\"\n"
     ]
    },
    {
     "name": "stdout",
     "output_type": "stream",
     "text": [
      "        xmin       ymin        xmax       ymax  confidence  class  name\n",
      "0  94.541733  58.453655  179.917191  183.50943    0.773861      0  Face\n",
      "<class 'numpy.ndarray'>\n",
      "(126, 85, 3)\n"
     ]
    },
    {
     "name": "stderr",
     "output_type": "stream",
     "text": [
      "C:\\Users\\s.ezati\\.conda\\envs\\myenv\\lib\\site-packages\\torch\\nn\\functional.py:780: UserWarning: Note that order of the arguments: ceil_mode and return_indices will changeto match the args list in nn.MaxPool2d in a future release.\n",
      "  warnings.warn(\"Note that order of the arguments: ceil_mode and return_indices will change\"\n"
     ]
    },
    {
     "name": "stdout",
     "output_type": "stream",
     "text": [
      "        xmin       ymin        xmax        ymax  confidence  class  name\n",
      "0  87.621964  61.162075  185.912003  201.879501     0.79936      0  Face\n",
      "<class 'numpy.ndarray'>\n",
      "(141, 98, 3)\n"
     ]
    },
    {
     "name": "stderr",
     "output_type": "stream",
     "text": [
      "C:\\Users\\s.ezati\\.conda\\envs\\myenv\\lib\\site-packages\\torch\\nn\\functional.py:780: UserWarning: Note that order of the arguments: ceil_mode and return_indices will changeto match the args list in nn.MaxPool2d in a future release.\n",
      "  warnings.warn(\"Note that order of the arguments: ceil_mode and return_indices will change\"\n"
     ]
    },
    {
     "name": "stdout",
     "output_type": "stream",
     "text": [
      "        xmin       ymin        xmax        ymax  confidence  class  name\n",
      "0  56.868305  50.646812  165.018936  204.000168    0.742226      0  Face\n",
      "<class 'numpy.ndarray'>\n",
      "(153, 108, 3)\n"
     ]
    },
    {
     "name": "stderr",
     "output_type": "stream",
     "text": [
      "C:\\Users\\s.ezati\\.conda\\envs\\myenv\\lib\\site-packages\\torch\\nn\\functional.py:780: UserWarning: Note that order of the arguments: ceil_mode and return_indices will changeto match the args list in nn.MaxPool2d in a future release.\n",
      "  warnings.warn(\"Note that order of the arguments: ceil_mode and return_indices will change\"\n"
     ]
    },
    {
     "name": "stdout",
     "output_type": "stream",
     "text": [
      "       xmin       ymin        xmax        ymax  confidence  class  name\n",
      "0  91.95047  60.833252  189.077972  194.407578    0.811487      0  Face\n",
      "<class 'numpy.ndarray'>\n",
      "(133, 97, 3)\n"
     ]
    },
    {
     "name": "stderr",
     "output_type": "stream",
     "text": [
      "C:\\Users\\s.ezati\\.conda\\envs\\myenv\\lib\\site-packages\\torch\\nn\\functional.py:780: UserWarning: Note that order of the arguments: ceil_mode and return_indices will changeto match the args list in nn.MaxPool2d in a future release.\n",
      "  warnings.warn(\"Note that order of the arguments: ceil_mode and return_indices will change\"\n"
     ]
    },
    {
     "name": "stdout",
     "output_type": "stream",
     "text": [
      "        xmin       ymin        xmax        ymax  confidence  class  name\n",
      "0  95.305527  51.702827  186.010834  187.901215    0.707304      0  Face\n",
      "<class 'numpy.ndarray'>\n",
      "(136, 91, 3)\n"
     ]
    },
    {
     "name": "stderr",
     "output_type": "stream",
     "text": [
      "C:\\Users\\s.ezati\\.conda\\envs\\myenv\\lib\\site-packages\\torch\\nn\\functional.py:780: UserWarning: Note that order of the arguments: ceil_mode and return_indices will changeto match the args list in nn.MaxPool2d in a future release.\n",
      "  warnings.warn(\"Note that order of the arguments: ceil_mode and return_indices will change\"\n"
     ]
    },
    {
     "name": "stdout",
     "output_type": "stream",
     "text": [
      "         xmin       ymin        xmax        ymax  confidence  class  name\n",
      "0  208.618042  79.556541  249.960648  181.129532    0.857043      0  Face\n",
      "1   74.948982  51.755112  169.521912  195.172073    0.764094      0  Face\n",
      "2   17.636633  87.977531   77.367088  208.093246    0.311463      0  Face\n",
      "<class 'numpy.ndarray'>\n",
      "(101, 41, 3)\n"
     ]
    },
    {
     "name": "stderr",
     "output_type": "stream",
     "text": [
      "C:\\Users\\s.ezati\\.conda\\envs\\myenv\\lib\\site-packages\\torch\\nn\\functional.py:780: UserWarning: Note that order of the arguments: ceil_mode and return_indices will changeto match the args list in nn.MaxPool2d in a future release.\n",
      "  warnings.warn(\"Note that order of the arguments: ceil_mode and return_indices will change\"\n"
     ]
    },
    {
     "name": "stdout",
     "output_type": "stream",
     "text": [
      "         xmin       ymin        xmax        ymax  confidence  class  name\n",
      "0  188.615631  46.322090  247.037796  153.060486    0.769060      0  Face\n",
      "1   71.486771  54.516136  161.046112  199.093552    0.714484      0  Face\n",
      "<class 'numpy.ndarray'>\n",
      "(107, 58, 3)\n"
     ]
    },
    {
     "name": "stderr",
     "output_type": "stream",
     "text": [
      "C:\\Users\\s.ezati\\.conda\\envs\\myenv\\lib\\site-packages\\torch\\nn\\functional.py:780: UserWarning: Note that order of the arguments: ceil_mode and return_indices will changeto match the args list in nn.MaxPool2d in a future release.\n",
      "  warnings.warn(\"Note that order of the arguments: ceil_mode and return_indices will change\"\n"
     ]
    },
    {
     "name": "stdout",
     "output_type": "stream",
     "text": [
      "        xmin       ymin        xmax        ymax  confidence  class  name\n",
      "0  77.732376  56.029022  173.502014  188.252899    0.761364      0  Face\n",
      "<class 'numpy.ndarray'>\n",
      "(132, 96, 3)\n"
     ]
    },
    {
     "name": "stderr",
     "output_type": "stream",
     "text": [
      "C:\\Users\\s.ezati\\.conda\\envs\\myenv\\lib\\site-packages\\torch\\nn\\functional.py:780: UserWarning: Note that order of the arguments: ceil_mode and return_indices will changeto match the args list in nn.MaxPool2d in a future release.\n",
      "  warnings.warn(\"Note that order of the arguments: ceil_mode and return_indices will change\"\n"
     ]
    },
    {
     "name": "stdout",
     "output_type": "stream",
     "text": [
      "        xmin       ymin        xmax        ymax  confidence  class  name\n",
      "0  80.014984  54.882111  179.526917  186.429276     0.79042      0  Face\n",
      "<class 'numpy.ndarray'>\n",
      "(131, 100, 3)\n"
     ]
    },
    {
     "name": "stderr",
     "output_type": "stream",
     "text": [
      "C:\\Users\\s.ezati\\.conda\\envs\\myenv\\lib\\site-packages\\torch\\nn\\functional.py:780: UserWarning: Note that order of the arguments: ceil_mode and return_indices will changeto match the args list in nn.MaxPool2d in a future release.\n",
      "  warnings.warn(\"Note that order of the arguments: ceil_mode and return_indices will change\"\n"
     ]
    },
    {
     "name": "stdout",
     "output_type": "stream",
     "text": [
      "        xmin       ymin        xmax        ymax  confidence  class  name\n",
      "0  85.492538  52.908691  178.774979  184.378815     0.75735      0  Face\n",
      "<class 'numpy.ndarray'>\n",
      "(131, 94, 3)\n"
     ]
    },
    {
     "name": "stderr",
     "output_type": "stream",
     "text": [
      "C:\\Users\\s.ezati\\.conda\\envs\\myenv\\lib\\site-packages\\torch\\nn\\functional.py:780: UserWarning: Note that order of the arguments: ceil_mode and return_indices will changeto match the args list in nn.MaxPool2d in a future release.\n",
      "  warnings.warn(\"Note that order of the arguments: ceil_mode and return_indices will change\"\n"
     ]
    },
    {
     "name": "stdout",
     "output_type": "stream",
     "text": [
      "        xmin       ymin        xmax        ymax  confidence  class  name\n",
      "0  86.937576  66.177536  172.278748  192.409286    0.838465      0  Face\n",
      "<class 'numpy.ndarray'>\n",
      "(126, 85, 3)\n"
     ]
    },
    {
     "name": "stderr",
     "output_type": "stream",
     "text": [
      "C:\\Users\\s.ezati\\.conda\\envs\\myenv\\lib\\site-packages\\torch\\nn\\functional.py:780: UserWarning: Note that order of the arguments: ceil_mode and return_indices will changeto match the args list in nn.MaxPool2d in a future release.\n",
      "  warnings.warn(\"Note that order of the arguments: ceil_mode and return_indices will change\"\n"
     ]
    },
    {
     "name": "stdout",
     "output_type": "stream",
     "text": [
      "        xmin       ymin        xmax        ymax  confidence  class  name\n",
      "0  65.157417  59.027733  167.049652  196.365372     0.74905      0  Face\n",
      "<class 'numpy.ndarray'>\n",
      "(137, 102, 3)\n"
     ]
    },
    {
     "name": "stderr",
     "output_type": "stream",
     "text": [
      "C:\\Users\\s.ezati\\.conda\\envs\\myenv\\lib\\site-packages\\torch\\nn\\functional.py:780: UserWarning: Note that order of the arguments: ceil_mode and return_indices will changeto match the args list in nn.MaxPool2d in a future release.\n",
      "  warnings.warn(\"Note that order of the arguments: ceil_mode and return_indices will change\"\n"
     ]
    },
    {
     "name": "stdout",
     "output_type": "stream",
     "text": [
      "        xmin       ymin        xmax        ymax  confidence  class  name\n",
      "0  95.116859  61.706978  183.269028  190.985901    0.786906      0  Face\n",
      "<class 'numpy.ndarray'>\n",
      "(129, 88, 3)\n"
     ]
    },
    {
     "name": "stderr",
     "output_type": "stream",
     "text": [
      "C:\\Users\\s.ezati\\.conda\\envs\\myenv\\lib\\site-packages\\torch\\nn\\functional.py:780: UserWarning: Note that order of the arguments: ceil_mode and return_indices will changeto match the args list in nn.MaxPool2d in a future release.\n",
      "  warnings.warn(\"Note that order of the arguments: ceil_mode and return_indices will change\"\n"
     ]
    },
    {
     "name": "stdout",
     "output_type": "stream",
     "text": [
      "        xmin       ymin        xmax        ymax  confidence  class  name\n",
      "0  70.579552  66.017456  151.901917  192.029892    0.779514      0  Face\n",
      "<class 'numpy.ndarray'>\n",
      "(126, 81, 3)\n"
     ]
    },
    {
     "name": "stderr",
     "output_type": "stream",
     "text": [
      "C:\\Users\\s.ezati\\.conda\\envs\\myenv\\lib\\site-packages\\torch\\nn\\functional.py:780: UserWarning: Note that order of the arguments: ceil_mode and return_indices will changeto match the args list in nn.MaxPool2d in a future release.\n",
      "  warnings.warn(\"Note that order of the arguments: ceil_mode and return_indices will change\"\n"
     ]
    },
    {
     "name": "stdout",
     "output_type": "stream",
     "text": [
      "         xmin       ymin        xmax        ymax  confidence  class  name\n",
      "0   69.540726  60.481853  159.205231  194.869049    0.826220      0  Face\n",
      "1  189.965042   0.737584  245.243149   26.994806    0.604499      0  Face\n",
      "2  143.932800   0.000000  243.779266  115.889191    0.394868      0  Face\n",
      "3    0.138229  48.049980   35.931721  183.416916    0.384832      0  Face\n",
      "<class 'numpy.ndarray'>\n",
      "(135, 89, 3)\n"
     ]
    },
    {
     "name": "stderr",
     "output_type": "stream",
     "text": [
      "C:\\Users\\s.ezati\\.conda\\envs\\myenv\\lib\\site-packages\\torch\\nn\\functional.py:780: UserWarning: Note that order of the arguments: ceil_mode and return_indices will changeto match the args list in nn.MaxPool2d in a future release.\n",
      "  warnings.warn(\"Note that order of the arguments: ceil_mode and return_indices will change\"\n"
     ]
    },
    {
     "name": "stdout",
     "output_type": "stream",
     "text": [
      "        xmin       ymin        xmax       ymax  confidence  class  name\n",
      "0  74.263123  59.347816  184.630203  198.55957    0.836427      0  Face\n",
      "<class 'numpy.ndarray'>\n",
      "(140, 111, 3)\n"
     ]
    },
    {
     "name": "stderr",
     "output_type": "stream",
     "text": [
      "C:\\Users\\s.ezati\\.conda\\envs\\myenv\\lib\\site-packages\\torch\\nn\\functional.py:780: UserWarning: Note that order of the arguments: ceil_mode and return_indices will changeto match the args list in nn.MaxPool2d in a future release.\n",
      "  warnings.warn(\"Note that order of the arguments: ceil_mode and return_indices will change\"\n"
     ]
    },
    {
     "name": "stdout",
     "output_type": "stream",
     "text": [
      "       xmin       ymin        xmax        ymax  confidence  class  name\n",
      "0  66.95459  43.617756  161.922913  189.721115    0.755016      0  Face\n",
      "<class 'numpy.ndarray'>\n",
      "(146, 95, 3)\n"
     ]
    },
    {
     "name": "stderr",
     "output_type": "stream",
     "text": [
      "C:\\Users\\s.ezati\\.conda\\envs\\myenv\\lib\\site-packages\\torch\\nn\\functional.py:780: UserWarning: Note that order of the arguments: ceil_mode and return_indices will changeto match the args list in nn.MaxPool2d in a future release.\n",
      "  warnings.warn(\"Note that order of the arguments: ceil_mode and return_indices will change\"\n"
     ]
    },
    {
     "name": "stdout",
     "output_type": "stream",
     "text": [
      "        xmin       ymin        xmax        ymax  confidence  class  name\n",
      "0  70.395096  47.551144  162.459183  191.064758    0.799957      0  Face\n",
      "<class 'numpy.ndarray'>\n",
      "(143, 92, 3)\n"
     ]
    },
    {
     "name": "stderr",
     "output_type": "stream",
     "text": [
      "C:\\Users\\s.ezati\\.conda\\envs\\myenv\\lib\\site-packages\\torch\\nn\\functional.py:780: UserWarning: Note that order of the arguments: ceil_mode and return_indices will changeto match the args list in nn.MaxPool2d in a future release.\n",
      "  warnings.warn(\"Note that order of the arguments: ceil_mode and return_indices will change\"\n"
     ]
    },
    {
     "name": "stdout",
     "output_type": "stream",
     "text": [
      "        xmin       ymin       xmax        ymax  confidence  class  name\n",
      "0  74.561707  66.159676  158.69281  187.824188     0.84542      0  Face\n",
      "<class 'numpy.ndarray'>\n",
      "(122, 84, 3)\n"
     ]
    },
    {
     "name": "stderr",
     "output_type": "stream",
     "text": [
      "C:\\Users\\s.ezati\\.conda\\envs\\myenv\\lib\\site-packages\\torch\\nn\\functional.py:780: UserWarning: Note that order of the arguments: ceil_mode and return_indices will changeto match the args list in nn.MaxPool2d in a future release.\n",
      "  warnings.warn(\"Note that order of the arguments: ceil_mode and return_indices will change\"\n"
     ]
    },
    {
     "name": "stdout",
     "output_type": "stream",
     "text": [
      "        xmin       ymin        xmax        ymax  confidence  class  name\n",
      "0  78.497345  64.389290  162.191055  193.616028    0.724533      0  Face\n",
      "1  17.022541  80.335411   74.790466  161.681030    0.556388      0  Face\n",
      "<class 'numpy.ndarray'>\n",
      "(130, 84, 3)\n"
     ]
    },
    {
     "name": "stderr",
     "output_type": "stream",
     "text": [
      "C:\\Users\\s.ezati\\.conda\\envs\\myenv\\lib\\site-packages\\torch\\nn\\functional.py:780: UserWarning: Note that order of the arguments: ceil_mode and return_indices will changeto match the args list in nn.MaxPool2d in a future release.\n",
      "  warnings.warn(\"Note that order of the arguments: ceil_mode and return_indices will change\"\n"
     ]
    },
    {
     "name": "stdout",
     "output_type": "stream",
     "text": [
      "        xmin        ymin        xmax        ymax  confidence  class  name\n",
      "0  74.314629   69.643997  166.039078  201.338074    0.720926      0  Face\n",
      "1   0.021911  147.204269   48.760174  250.000000    0.456446      0  Face\n",
      "<class 'numpy.ndarray'>\n",
      "(131, 92, 3)\n"
     ]
    },
    {
     "name": "stderr",
     "output_type": "stream",
     "text": [
      "C:\\Users\\s.ezati\\.conda\\envs\\myenv\\lib\\site-packages\\torch\\nn\\functional.py:780: UserWarning: Note that order of the arguments: ceil_mode and return_indices will changeto match the args list in nn.MaxPool2d in a future release.\n",
      "  warnings.warn(\"Note that order of the arguments: ceil_mode and return_indices will change\"\n"
     ]
    },
    {
     "name": "stdout",
     "output_type": "stream",
     "text": [
      "        xmin      ymin        xmax        ymax  confidence  class  name\n",
      "0  86.082031  64.96183  177.749329  194.489227    0.866637      0  Face\n",
      "<class 'numpy.ndarray'>\n",
      "(129, 92, 3)\n"
     ]
    },
    {
     "name": "stderr",
     "output_type": "stream",
     "text": [
      "C:\\Users\\s.ezati\\.conda\\envs\\myenv\\lib\\site-packages\\torch\\nn\\functional.py:780: UserWarning: Note that order of the arguments: ceil_mode and return_indices will changeto match the args list in nn.MaxPool2d in a future release.\n",
      "  warnings.warn(\"Note that order of the arguments: ceil_mode and return_indices will change\"\n"
     ]
    },
    {
     "name": "stdout",
     "output_type": "stream",
     "text": [
      "0\n",
      "40\n",
      "40\n"
     ]
    }
   ],
   "source": [
    "model = torch.hub.load('ultralytics/yolov5', 'custom', path='face_detection_yolov5s.pt',device=device)\n",
    "\n",
    "\n",
    "\n",
    "for imgs, idx in loader:\n",
    "\n",
    "    transform1 = transforms.ToTensor()\n",
    "    tensor = transform1(imgs)\n",
    "    t = transforms.functional.adjust_gamma(tensor, gamma=2, gain=3)\n",
    "\n",
    "    transform2 = transforms.ToPILImage()\n",
    "\n",
    "    # convert the tensor to PIL image using above transform\n",
    "    imgss = transform2(t)\n",
    "\n",
    "    img =  np.array(imgss)\n",
    "    \n",
    "\n",
    "    results = model(img)\n",
    "    faces = results.pandas().xyxy[0]\n",
    "    if faces.empty:\n",
    "          continue\n",
    "    print(faces)\n",
    "    #faces = faces.sort_values(by='confidence', ascending=False)\n",
    "    x = round(faces['xmin'][0])\n",
    "    y = round(faces['ymin'][0])\n",
    "    w = round(faces['xmax'][0])\n",
    "    h = round(faces['ymax'][0])\n",
    "    img_ = img[y:h, x:w]\n",
    "    print(type(img_))\n",
    "    print(img_.shape)\n",
    "\n",
    "    img_padding = np.pad(img_, ((100, 100), (200, 200), (0,0)), constant_values=0)\n",
    "\n",
    "    face, prob = mtcnn(img_padding, return_prob=True) \n",
    "    confidence = faces['confidence'][0]\n",
    "    if face is not None and prob>0.90:\n",
    "        emb = resnet(face.unsqueeze(0)) \n",
    "        embedding_list.append(emb.detach()) \n",
    "        name_list.append(idx_to_class[idx]) \n",
    "\n",
    "\n",
    "\n",
    "\n",
    "\n",
    "print(len(face_list))\n",
    "print(len(name_list))\n",
    "print(len(embedding_list))\n"
   ]
  },
  {
   "cell_type": "code",
   "execution_count": 18,
   "metadata": {},
   "outputs": [
    {
     "name": "stdout",
     "output_type": "stream",
     "text": [
      "['Aaron_Peirsol', 'Aaron_Peirsol', 'Aaron_Peirsol', 'Aaron_Sorkin', 'Abdel_Nasser_Assidi', 'Abdoulaye_Wade', 'Abdoulaye_Wade', 'Abdoulaye_Wade', 'Abdullah', 'Abdullah', 'Abdullah', 'Abdullah_Gul', 'Abdullah_Gul', 'Abdullah_Gul', 'Abdullah_Gul', 'Abdullah_Gul', 'Abdullah_Gul', 'Abdullah_Gul', 'Abdullah_Gul', 'Abdullah_Gul', 'Abdullah_Gul', 'Abdullah_Gul', 'Abdullah_al-Attiyah', 'Abdullah_al-Attiyah', 'Abdullatif_Sener', 'Abel_Pacheco', 'Abel_Pacheco', 'Abel_Pacheco', 'Abid_Hamid_Mahmud_Al-Tikriti', 'Abid_Hamid_Mahmud_Al-Tikriti', 'Adam_Sandler', 'Adam_Sandler', 'Adam_Sandler', 'Adam_Scott', 'Adel_Al-Jubeir', 'Adel_Al-Jubeir', 'Adolfo_Aguilar_Zinser', 'Adolfo_Aguilar_Zinser', 'Adolfo_Rodriguez_Saa', 'Adrian_McPherson']\n"
     ]
    }
   ],
   "source": [
    "data = [embedding_list, name_list]\n",
    "print(data[1])\n",
    "torch.save(data, 'data.pt') "
   ]
  },
  {
   "cell_type": "code",
   "execution_count": 19,
   "metadata": {
    "scrolled": true
   },
   "outputs": [
    {
     "name": "stdout",
     "output_type": "stream",
     "text": [
      "1\n",
      "(145, 91, 3)\n"
     ]
    },
    {
     "name": "stderr",
     "output_type": "stream",
     "text": [
      "C:\\Users\\s.ezati\\.conda\\envs\\myenv\\lib\\site-packages\\torch\\nn\\functional.py:780: UserWarning: Note that order of the arguments: ceil_mode and return_indices will changeto match the args list in nn.MaxPool2d in a future release.\n",
      "  warnings.warn(\"Note that order of the arguments: ceil_mode and return_indices will change\"\n"
     ]
    },
    {
     "name": "stdout",
     "output_type": "stream",
     "text": [
      "               index  distance\n",
      "name                          \n",
      "Aaron Peirsol      1         1\n",
      "not match          1         1\n",
      "Face matched with: Aaron Peirsol\n",
      "2\n",
      "(164, 109, 3)\n"
     ]
    },
    {
     "name": "stderr",
     "output_type": "stream",
     "text": [
      "C:\\Users\\s.ezati\\.conda\\envs\\myenv\\lib\\site-packages\\torch\\nn\\functional.py:780: UserWarning: Note that order of the arguments: ceil_mode and return_indices will changeto match the args list in nn.MaxPool2d in a future release.\n",
      "  warnings.warn(\"Note that order of the arguments: ceil_mode and return_indices will change\"\n"
     ]
    },
    {
     "name": "stdout",
     "output_type": "stream",
     "text": [
      "           index  distance\n",
      "name                      \n",
      "not match      1         1\n",
      "Face matched with: not match\n",
      "3\n",
      "(128, 95, 3)\n"
     ]
    },
    {
     "name": "stderr",
     "output_type": "stream",
     "text": [
      "C:\\Users\\s.ezati\\.conda\\envs\\myenv\\lib\\site-packages\\torch\\nn\\functional.py:780: UserWarning: Note that order of the arguments: ceil_mode and return_indices will changeto match the args list in nn.MaxPool2d in a future release.\n",
      "  warnings.warn(\"Note that order of the arguments: ceil_mode and return_indices will change\"\n"
     ]
    },
    {
     "name": "stdout",
     "output_type": "stream",
     "text": [
      "                     index  distance\n",
      "name                                \n",
      "Abdel Nasser Assidi      1         1\n",
      "not match                1         1\n",
      "Face matched with: Abdel Nasser Assidi\n",
      "4\n",
      "(152, 104, 3)\n"
     ]
    },
    {
     "name": "stderr",
     "output_type": "stream",
     "text": [
      "C:\\Users\\s.ezati\\.conda\\envs\\myenv\\lib\\site-packages\\torch\\nn\\functional.py:780: UserWarning: Note that order of the arguments: ceil_mode and return_indices will changeto match the args list in nn.MaxPool2d in a future release.\n",
      "  warnings.warn(\"Note that order of the arguments: ceil_mode and return_indices will change\"\n"
     ]
    },
    {
     "name": "stdout",
     "output_type": "stream",
     "text": [
      "                index  distance\n",
      "name                           \n",
      "Abdoulaye Wade      2         2\n",
      "not match           1         1\n",
      "Face matched with: Abdoulaye Wade\n",
      "5\n",
      "(133, 94, 3)\n"
     ]
    },
    {
     "name": "stderr",
     "output_type": "stream",
     "text": [
      "C:\\Users\\s.ezati\\.conda\\envs\\myenv\\lib\\site-packages\\torch\\nn\\functional.py:780: UserWarning: Note that order of the arguments: ceil_mode and return_indices will changeto match the args list in nn.MaxPool2d in a future release.\n",
      "  warnings.warn(\"Note that order of the arguments: ceil_mode and return_indices will change\"\n"
     ]
    },
    {
     "name": "stdout",
     "output_type": "stream",
     "text": [
      "           index  distance\n",
      "name                      \n",
      "not match      1         1\n",
      "Face matched with: not match\n",
      "6\n",
      "(140, 94, 3)\n"
     ]
    },
    {
     "name": "stderr",
     "output_type": "stream",
     "text": [
      "C:\\Users\\s.ezati\\.conda\\envs\\myenv\\lib\\site-packages\\torch\\nn\\functional.py:780: UserWarning: Note that order of the arguments: ceil_mode and return_indices will changeto match the args list in nn.MaxPool2d in a future release.\n",
      "  warnings.warn(\"Note that order of the arguments: ceil_mode and return_indices will change\"\n"
     ]
    },
    {
     "name": "stdout",
     "output_type": "stream",
     "text": [
      "           index  distance\n",
      "name                      \n",
      "not match      1         1\n",
      "Face matched with: not match\n",
      "7\n",
      "(143, 94, 3)\n"
     ]
    },
    {
     "name": "stderr",
     "output_type": "stream",
     "text": [
      "C:\\Users\\s.ezati\\.conda\\envs\\myenv\\lib\\site-packages\\torch\\nn\\functional.py:780: UserWarning: Note that order of the arguments: ceil_mode and return_indices will changeto match the args list in nn.MaxPool2d in a future release.\n",
      "  warnings.warn(\"Note that order of the arguments: ceil_mode and return_indices will change\"\n"
     ]
    },
    {
     "name": "stdout",
     "output_type": "stream",
     "text": [
      "              index  distance\n",
      "name                         \n",
      "Abdullah Gul      3         3\n",
      "not match         1         1\n",
      "Face matched with: Abdullah Gul\n",
      "8\n",
      "(133, 94, 3)\n"
     ]
    },
    {
     "name": "stderr",
     "output_type": "stream",
     "text": [
      "C:\\Users\\s.ezati\\.conda\\envs\\myenv\\lib\\site-packages\\torch\\nn\\functional.py:780: UserWarning: Note that order of the arguments: ceil_mode and return_indices will changeto match the args list in nn.MaxPool2d in a future release.\n",
      "  warnings.warn(\"Note that order of the arguments: ceil_mode and return_indices will change\"\n"
     ]
    },
    {
     "name": "stdout",
     "output_type": "stream",
     "text": [
      "              index  distance\n",
      "name                         \n",
      "Abdullah Gul      5         5\n",
      "not match         1         1\n",
      "Face matched with: Abdullah Gul\n",
      "9\n",
      "(137, 95, 3)\n"
     ]
    },
    {
     "name": "stderr",
     "output_type": "stream",
     "text": [
      "C:\\Users\\s.ezati\\.conda\\envs\\myenv\\lib\\site-packages\\torch\\nn\\functional.py:780: UserWarning: Note that order of the arguments: ceil_mode and return_indices will changeto match the args list in nn.MaxPool2d in a future release.\n",
      "  warnings.warn(\"Note that order of the arguments: ceil_mode and return_indices will change\"\n"
     ]
    },
    {
     "name": "stdout",
     "output_type": "stream",
     "text": [
      "              index  distance\n",
      "name                         \n",
      "Abdullah Gul      5         5\n",
      "not match         1         1\n",
      "Face matched with: Abdullah Gul\n",
      "10\n",
      "(132, 95, 3)\n"
     ]
    },
    {
     "name": "stderr",
     "output_type": "stream",
     "text": [
      "C:\\Users\\s.ezati\\.conda\\envs\\myenv\\lib\\site-packages\\torch\\nn\\functional.py:780: UserWarning: Note that order of the arguments: ceil_mode and return_indices will changeto match the args list in nn.MaxPool2d in a future release.\n",
      "  warnings.warn(\"Note that order of the arguments: ceil_mode and return_indices will change\"\n"
     ]
    },
    {
     "name": "stdout",
     "output_type": "stream",
     "text": [
      "              index  distance\n",
      "name                         \n",
      "Abdullah Gul      3         3\n",
      "not match         1         1\n",
      "Face matched with: Abdullah Gul\n",
      "11\n",
      "(127, 86, 3)\n"
     ]
    },
    {
     "name": "stderr",
     "output_type": "stream",
     "text": [
      "C:\\Users\\s.ezati\\.conda\\envs\\myenv\\lib\\site-packages\\torch\\nn\\functional.py:780: UserWarning: Note that order of the arguments: ceil_mode and return_indices will changeto match the args list in nn.MaxPool2d in a future release.\n",
      "  warnings.warn(\"Note that order of the arguments: ceil_mode and return_indices will change\"\n"
     ]
    },
    {
     "name": "stdout",
     "output_type": "stream",
     "text": [
      "           index  distance\n",
      "name                      \n",
      "not match      1         1\n",
      "Face matched with: not match\n",
      "12\n",
      "(131, 91, 3)\n"
     ]
    },
    {
     "name": "stderr",
     "output_type": "stream",
     "text": [
      "C:\\Users\\s.ezati\\.conda\\envs\\myenv\\lib\\site-packages\\torch\\nn\\functional.py:780: UserWarning: Note that order of the arguments: ceil_mode and return_indices will changeto match the args list in nn.MaxPool2d in a future release.\n",
      "  warnings.warn(\"Note that order of the arguments: ceil_mode and return_indices will change\"\n"
     ]
    },
    {
     "name": "stdout",
     "output_type": "stream",
     "text": [
      "           index  distance\n",
      "name                      \n",
      "not match      1         1\n",
      "Face matched with: not match\n",
      "13\n",
      "(146, 96, 3)\n"
     ]
    },
    {
     "name": "stderr",
     "output_type": "stream",
     "text": [
      "C:\\Users\\s.ezati\\.conda\\envs\\myenv\\lib\\site-packages\\torch\\nn\\functional.py:780: UserWarning: Note that order of the arguments: ceil_mode and return_indices will changeto match the args list in nn.MaxPool2d in a future release.\n",
      "  warnings.warn(\"Note that order of the arguments: ceil_mode and return_indices will change\"\n"
     ]
    },
    {
     "name": "stdout",
     "output_type": "stream",
     "text": [
      "           index  distance\n",
      "name                      \n",
      "not match      1         1\n",
      "Face matched with: not match\n",
      "14\n",
      "(141, 90, 3)\n"
     ]
    },
    {
     "name": "stderr",
     "output_type": "stream",
     "text": [
      "C:\\Users\\s.ezati\\.conda\\envs\\myenv\\lib\\site-packages\\torch\\nn\\functional.py:780: UserWarning: Note that order of the arguments: ceil_mode and return_indices will changeto match the args list in nn.MaxPool2d in a future release.\n",
      "  warnings.warn(\"Note that order of the arguments: ceil_mode and return_indices will change\"\n"
     ]
    },
    {
     "name": "stdout",
     "output_type": "stream",
     "text": [
      "           index  distance\n",
      "name                      \n",
      "not match      1         1\n",
      "Face matched with: not match\n",
      "15\n",
      "(129, 89, 3)\n"
     ]
    },
    {
     "name": "stderr",
     "output_type": "stream",
     "text": [
      "C:\\Users\\s.ezati\\.conda\\envs\\myenv\\lib\\site-packages\\torch\\nn\\functional.py:780: UserWarning: Note that order of the arguments: ceil_mode and return_indices will changeto match the args list in nn.MaxPool2d in a future release.\n",
      "  warnings.warn(\"Note that order of the arguments: ceil_mode and return_indices will change\"\n"
     ]
    },
    {
     "name": "stdout",
     "output_type": "stream",
     "text": [
      "           index  distance\n",
      "name                      \n",
      "not match      1         1\n",
      "Face matched with: not match\n",
      "16\n",
      "(121, 83, 3)\n"
     ]
    },
    {
     "name": "stderr",
     "output_type": "stream",
     "text": [
      "C:\\Users\\s.ezati\\.conda\\envs\\myenv\\lib\\site-packages\\torch\\nn\\functional.py:780: UserWarning: Note that order of the arguments: ceil_mode and return_indices will changeto match the args list in nn.MaxPool2d in a future release.\n",
      "  warnings.warn(\"Note that order of the arguments: ceil_mode and return_indices will change\"\n"
     ]
    },
    {
     "name": "stdout",
     "output_type": "stream",
     "text": [
      "                index  distance\n",
      "name                           \n",
      "Adel Al-Jubeir      1         1\n",
      "not match           1         1\n",
      "Face matched with: Adel Al-Jubeir\n",
      "17\n",
      "(136, 86, 3)\n"
     ]
    },
    {
     "name": "stderr",
     "output_type": "stream",
     "text": [
      "C:\\Users\\s.ezati\\.conda\\envs\\myenv\\lib\\site-packages\\torch\\nn\\functional.py:780: UserWarning: Note that order of the arguments: ceil_mode and return_indices will changeto match the args list in nn.MaxPool2d in a future release.\n",
      "  warnings.warn(\"Note that order of the arguments: ceil_mode and return_indices will change\"\n"
     ]
    },
    {
     "name": "stdout",
     "output_type": "stream",
     "text": [
      "                       index  distance\n",
      "name                                  \n",
      "Adolfo Aguilar Zinser      1         1\n",
      "not match                  1         1\n",
      "Face matched with: Adolfo Aguilar Zinser\n",
      "18\n",
      "(135, 87, 3)\n"
     ]
    },
    {
     "name": "stderr",
     "output_type": "stream",
     "text": [
      "C:\\Users\\s.ezati\\.conda\\envs\\myenv\\lib\\site-packages\\torch\\nn\\functional.py:780: UserWarning: Note that order of the arguments: ceil_mode and return_indices will changeto match the args list in nn.MaxPool2d in a future release.\n",
      "  warnings.warn(\"Note that order of the arguments: ceil_mode and return_indices will change\"\n"
     ]
    },
    {
     "name": "stdout",
     "output_type": "stream",
     "text": [
      "           index  distance\n",
      "name                      \n",
      "not match      1         1\n",
      "Face matched with: not match\n",
      "19\n",
      "(130, 93, 3)\n"
     ]
    },
    {
     "name": "stderr",
     "output_type": "stream",
     "text": [
      "C:\\Users\\s.ezati\\.conda\\envs\\myenv\\lib\\site-packages\\torch\\nn\\functional.py:780: UserWarning: Note that order of the arguments: ceil_mode and return_indices will changeto match the args list in nn.MaxPool2d in a future release.\n",
      "  warnings.warn(\"Note that order of the arguments: ceil_mode and return_indices will change\"\n"
     ]
    },
    {
     "name": "stdout",
     "output_type": "stream",
     "text": [
      "           index  distance\n",
      "name                      \n",
      "not match      1         1\n",
      "Face matched with: not match\n"
     ]
    }
   ],
   "source": [
    "def face_match(img_path, data_path): \n",
    "    img_s = Image.open(img_path)\n",
    " \n",
    "    transform1 = transforms.ToTensor()\n",
    "    tensor = transform1(img_s)\n",
    "    t = transforms.functional.adjust_gamma(tensor, gamma=2, gain=3)\n",
    "    transform2 = transforms.ToPILImage()\n",
    "    # convert the tensor to PIL image using above transform\n",
    "    imgss = transform2(t)\n",
    "    img =  np.array(imgss)\n",
    "    #print(img)\n",
    "\n",
    "    results = model(img)\n",
    "    #results.show()\n",
    "    faces = results.pandas().xyxy[0]\n",
    "   # print(faces)\n",
    "    if faces.empty:\n",
    "        img_ = img\n",
    "    else:\n",
    "        #faces = faces.sort_values(by='confidence', ascending=False)\n",
    "       # print(faces)\n",
    "        x = round(faces['xmin'][0])\n",
    "        y = round(faces['ymin'][0])\n",
    "        w = round(faces['xmax'][0])\n",
    "        h = round(faces['ymax'][0])\n",
    "        img_ = img[y:h, x:w]\n",
    "    \n",
    "    print(img_.shape)\n",
    "     #padding\n",
    "    new = Image.fromarray(img_)\n",
    "    img_padding = np.pad(img_, ((100, 100), (200, 200), (0,0)), constant_values=0)\n",
    "   \n",
    "   # img_pil = Image.fromarray(img)0\n",
    "   # tensor_input = transform1(new_image)\n",
    "    \n",
    "    #plt.figure(figsize=(5,5))\n",
    "   # plt.imshow(img_padding)\n",
    "\n",
    "    img_pil = Image.fromarray(img_padding)\n",
    "    face, prob = mtcnn(img_pil, return_prob=True) \n",
    "    \n",
    "    if face is None:\n",
    "        emb = transform1(new.resize((240,240)).unsqueeze(0)).detach() \n",
    "\n",
    "    else:\n",
    "        emb = resnet(face.unsqueeze(0)).detach() \n",
    "\n",
    "#    emb = resnet(tensor_input.unsqueeze(0).cuda()).detach() \n",
    "\n",
    "    saved_data = torch.load('data.pt') \n",
    "    embedding_list = saved_data[0] \n",
    "    name_list = saved_data[1] \n",
    "    dist_list = [] \n",
    "    \n",
    "    for idx, emb_db in enumerate(embedding_list):\n",
    "        dist = torch.dist(emb, emb_db).item()\n",
    "        dist_list.append(dist)\n",
    "\n",
    "    output_list_name = []\n",
    "    output_list_similarity = []\n",
    "    d = {'index':[0],'name': ['not match'], 'distance': [100000]}\n",
    "    df = pd.DataFrame(data=d)\n",
    "    index = 1\n",
    "    for dist__ in dist_list:\n",
    "        if dist__ <= 0.6:\n",
    "            idx = dist_list.index(dist__)\n",
    "            df = df.append({'index':index, 'name':name_list[idx].replace('_',' ')\n",
    "                            , 'distance':dist__}, ignore_index=True)\n",
    "            index = index + 1\n",
    "        else:\n",
    "            continue\n",
    "    return df.groupby(['name']).count().sort_values(by='index', ascending=False)\n",
    "\n",
    "image_list = []\n",
    "y_real = []\n",
    "for filename in glob.glob('lfw_split/test/*/*.jpg'): #assuming gif\n",
    "    image_list.append(filename)\n",
    "    y_real.append(filename.split('\\\\')[1].split('0')[0].replace('_','').replace('.jpg',''))\n",
    "    \n",
    "predict_y = []\n",
    "count = 1\n",
    "for i in image_list:   \n",
    "    print(count)\n",
    "    result = face_match(i, 'data.pt')\n",
    "    print(result)\n",
    "    predict_y.append(result.index[0].replace(' ',''))\n",
    "    count =count + 1\n",
    "    print('Face matched with:',result.index[0])\n"
   ]
  },
  {
   "cell_type": "code",
   "execution_count": 20,
   "metadata": {},
   "outputs": [
    {
     "name": "stdout",
     "output_type": "stream",
     "text": [
      "19\n",
      "19\n",
      "<class 'list'>\n"
     ]
    }
   ],
   "source": [
    "print(len(y_real))\n",
    "print(len(predict_y))\n",
    "print(type(y_real))\n",
    "\n"
   ]
  },
  {
   "cell_type": "code",
   "execution_count": 21,
   "metadata": {},
   "outputs": [
    {
     "name": "stdout",
     "output_type": "stream",
     "text": [
      "accuracy: 0.47368421052631576\n"
     ]
    }
   ],
   "source": [
    "accuracy_marker = []\n",
    "conf_y_real = []\n",
    "conf_y_pred = []\n",
    "marker = 0\n",
    "for i in range(0,len(y_real)):\n",
    "   # print(y[i])\n",
    "   # print(predict_y[i])\n",
    "    conf_y_real.append(0)\n",
    "    if (y_real[i] == predict_y[i]) is True:\n",
    "        accuracy_marker.append(0)\n",
    "        conf_y_pred.append(0)\n",
    "        marker +=1\n",
    "    else:\n",
    "        accuracy_marker.append(1)\n",
    "        conf_y_pred.append(1)\n",
    "\n",
    "    \n",
    "print(\"accuracy:\",marker/len(accuracy_marker))\n"
   ]
  },
  {
   "cell_type": "code",
   "execution_count": 22,
   "metadata": {},
   "outputs": [
    {
     "data": {
      "image/png": "[encoded data removed]",
      "text/plain": [
       "<Figure size 432x288 with 2 Axes>"
      ]
     },
     "metadata": {
      "needs_background": "light"
     },
     "output_type": "display_data"
    }
   ],
   "source": [
    "from sklearn.metrics import confusion_matrix\n",
    "import seaborn as sn\n",
    "import matplotlib.pyplot as plt\n",
    "\n",
    "confusion_matrix = confusion_matrix(conf_y_real,conf_y_pred)\n",
    "\n",
    "sn.heatmap(confusion_matrix, annot=True)\n",
    "plt.show()"
   ]
  },
  {
   "cell_type": "markdown",
   "metadata": {},
   "source": [
    "# haraa cascade with mtcnn\n",
    "\n",
    "#### accuracy : 77%\n",
    "\n",
    "#### problem : haara is not good for faces except frontFaces"
   ]
  },
  {
   "cell_type": "markdown",
   "metadata": {},
   "source": [
    "# yolo with mtcnn\n",
    "\n",
    "#### accuracy : 80%\n"
   ]
  },
  {
   "cell_type": "code",
   "execution_count": null,
   "metadata": {},
   "outputs": [],
   "source": []
  },
  {
   "cell_type": "markdown",
   "metadata": {},
   "source": [
    "# yolo with resnet\n",
    "\n",
    "#### accuracy : 94.73%"
   ]
  },
  {
   "cell_type": "code",
   "execution_count": null,
   "metadata": {},
   "outputs": [],
   "source": []
  }
 ],
 "metadata": {
  "kernelspec": {
   "display_name": "Python 3 (ipykernel)",
   "language": "python",
   "name": "python3"
  },
  "language_info": {
   "codemirror_mode": {
    "name": "ipython",
    "version": 3
   },
   "file_extension": ".py",
   "mimetype": "text/x-python",
   "name": "python",
   "nbconvert_exporter": "python",
   "pygments_lexer": "ipython3",
   "version": "3.12.2"
  }
 },
 "nbformat": 4,
 "nbformat_minor": 4
}
