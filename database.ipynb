{
 "cells": [
  {
   "cell_type": "code",
   "execution_count": 1,
   "metadata": {},
   "outputs": [],
   "source": [
    "# importing libraries\n",
    "from datetime import datetime\n",
    "from PIL import Image\n",
    "import cv2\n",
    "import numpy as np\n",
    "import matplotlib.pyplot as plt\n",
    "\n",
    "import glob\n",
    "%matplotlib inline\n",
    "import pandas as pd\n",
    "\n",
    "import os\n"
   ]
  },
  {
   "cell_type": "code",
   "execution_count": 2,
   "metadata": {},
   "outputs": [],
   "source": [
    "from threading import Thread\n",
    "\n",
    "class ThreadedCamera(object):\n",
    "    def __init__(self, source='cam:Sayda@0.0.0.0:88/videoMain'):\n",
    "\n",
    "        self.capture = cv2.VideoCapture(f'rtsp://{source}')\n",
    "\n",
    "        self.thread = Thread(target = self.update, args = ())\n",
    "        self.thread.daemon = True\n",
    "        self.thread.start()\n",
    "\n",
    "        self.status = False\n",
    "        self.frame  = None\n",
    "\n",
    "    def update(self):\n",
    "        while True:\n",
    "            if self.capture.isOpened(): (self.status, self.frame) = self.capture.read()\n",
    "            else: continue\n",
    "\n",
    "    def grab_frame(self):\n",
    "        if self.status: return self.frame\n",
    "        else: return None \n",
    "    \n",
    "    def end_frame(self):\n",
    "        self.capture.release()"
   ]
  },
  {
   "cell_type": "code",
   "execution_count": 3,
   "metadata": {},
   "outputs": [],
   "source": [
    "def mouse_click(event, x, y, flags, param):\n",
    "    global ROI_Region\n",
    "    global img_original\n",
    "    global saved_img\n",
    "    global filename\n",
    "    global counter\n",
    "    \n",
    "    if event == cv2.EVENT_RBUTTONDOWN:\n",
    "        counter = counter +1\n",
    "        print(counter)\n",
    "        filename = str(counter)+'.jpg'\n",
    "        print(filename)\n",
    "        cv2.imwrite(filename, saved_img)\n",
    "#         print(\"After saving image:\")  \n",
    "#         print(os.listdir(directory))\n",
    "        print('Successfully saved')        \n",
    "        cv2.destroyAllWindows()\n",
    "    elif event == cv2.EVENT_MBUTTONDOWN: ROI_Region = [0,0,0,0]\n",
    "    else: pass"
   ]
  },
  {
   "cell_type": "code",
   "execution_count": 4,
   "metadata": {},
   "outputs": [],
   "source": [
    "streamer = ThreadedCamera('cam:Sayda@0.0.0.0:88/videoMain')\n"
   ]
  },
  {
   "cell_type": "code",
   "execution_count": 5,
   "metadata": {},
   "outputs": [],
   "source": [
    "counter = 1\n",
    "filename = ''\n",
    "\n",
    "saved_img = cv2.imread('C:/Users/s.ezati/Desktop/verification/people/1.jpg')\n"
   ]
  },
  {
   "cell_type": "code",
   "execution_count": 6,
   "metadata": {},
   "outputs": [],
   "source": [
    "directory = r'C:/Users/s.ezati/Desktop/database'\n",
    "os.chdir(directory)"
   ]
  },
  {
   "cell_type": "code",
   "execution_count": null,
   "metadata": {},
   "outputs": [],
   "source": [
    "while True: \n",
    "    img_original = streamer.grab_frame()\n",
    "    \n",
    "    try: img_original = Image.fromarray(img_original)\n",
    "    except AttributeError: continue\n",
    "       \n",
    "    saved_img = cv2.resize(np.array(img_original), (1250, 750))\n",
    "\n",
    "    \n",
    "    \n",
    "    cv2.imshow('database', np.array(saved_img))\n",
    "\n",
    "    cv2.setMouseCallback('database', mouse_click)\n",
    "    if cv2.waitKey(1) & 0xFF == ord('q'): \n",
    "        cv2.destroyAllWindows()\n",
    "        streamer.end_frame()\n",
    "        break"
   ]
  },
  {
   "cell_type": "code",
   "execution_count": null,
   "metadata": {},
   "outputs": [],
   "source": []
  },
  {
   "cell_type": "code",
   "execution_count": null,
   "metadata": {},
   "outputs": [],
   "source": []
  }
 ],
 "metadata": {
  "kernelspec": {
   "display_name": "Python 3 (ipykernel)",
   "language": "python",
   "name": "python3"
  },
  "language_info": {
   "codemirror_mode": {
    "name": "ipython",
    "version": 3
   },
   "file_extension": ".py",
   "mimetype": "text/x-python",
   "name": "python",
   "nbconvert_exporter": "python",
   "pygments_lexer": "ipython3",
   "version": "3.12.2"
  }
 },
 "nbformat": 4,
 "nbformat_minor": 4
}
