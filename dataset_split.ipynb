{
 "cells": [
  {
   "cell_type": "code",
   "execution_count": 1,
   "metadata": {},
   "outputs": [],
   "source": [
    "import splitfolders"
   ]
  },
  {
   "cell_type": "code",
   "execution_count": 2,
   "metadata": {},
   "outputs": [],
   "source": [
    "input_folder = 'lfw-deepfunneled/'"
   ]
  },
  {
   "cell_type": "code",
   "execution_count": 3,
   "metadata": {},
   "outputs": [
    {
     "name": "stderr",
     "output_type": "stream",
     "text": [
      "Copying files: 9164 files [00:37, 245.09 files/s]\n"
     ]
    }
   ],
   "source": [
    "splitfolders.ratio(input_folder,output=\"lfw_test1\", seed=42, ratio=(.7,.2,.1), group_prefix=None)"
   ]
  },
  {
   "cell_type": "code",
   "execution_count": 4,
   "metadata": {},
   "outputs": [
    {
     "name": "stdout",
     "output_type": "stream",
     "text": [
      "1680\n",
      "1680\n"
     ]
    }
   ],
   "source": [
    "from pathlib import PurePath\n",
    "import os\n",
    "import shutil \n",
    "\n",
    "\n",
    "files = os.listdir('lfw-deepfunneled/')\n",
    "print(len(files))\n",
    "for file in files:\n",
    "    path_list = list(PurePath('lfw-deepfunneled/').parts)\n",
    "    path_list.insert(2, file)\n",
    "    file_path = PurePath('').joinpath(*path_list)\n",
    "    sub_file_list = os.listdir(file_path)\n",
    "    if len(sub_file_list) == 1 :\n",
    "        shutil.rmtree(file_path) \n",
    "\n",
    "files_ = os.listdir('lfw-deepfunneled/')\n",
    "print(len(files_))\n",
    "\n",
    "    "
   ]
  },
  {
   "cell_type": "code",
   "execution_count": 5,
   "metadata": {},
   "outputs": [],
   "source": [
    "def remove_null():\n",
    "    files = os.listdir('lfw-deepfunneled/')\n",
    "    for file in files:\n",
    "        path_list = list(PurePath('lfw-deepfunneled/').parts)\n",
    "        path_list.insert(2, file)\n",
    "        file_path = PurePath('').joinpath(*path_list)\n",
    "        sub_file_list = os.listdir(file_path)\n",
    "        if len(sub_file_list) == 1 :\n",
    "            shutil.rmtree(file_path) "
   ]
  },
  {
   "cell_type": "code",
   "execution_count": 6,
   "metadata": {},
   "outputs": [],
   "source": [
    "remove_null()"
   ]
  },
  {
   "cell_type": "code",
   "execution_count": null,
   "metadata": {},
   "outputs": [],
   "source": []
  }
 ],
 "metadata": {
  "kernelspec": {
   "display_name": "Python 3 (ipykernel)",
   "language": "python",
   "name": "python3"
  },
  "language_info": {
   "codemirror_mode": {
    "name": "ipython",
    "version": 3
   },
   "file_extension": ".py",
   "mimetype": "text/x-python",
   "name": "python",
   "nbconvert_exporter": "python",
   "pygments_lexer": "ipython3",
   "version": "3.10.6"
  }
 },
 "nbformat": 4,
 "nbformat_minor": 4
}
